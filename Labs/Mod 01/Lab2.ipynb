{
 "cells": [
  {
   "cell_type": "markdown",
   "id": "25f06ff2-3f23-4172-a17c-504b12a3e65d",
   "metadata": {},
   "source": [
    "# Lab 2: Using Python Modules\n",
    "\n",
    "#### Objectives:\n",
    "\n",
    "1. Import a built-in module\n",
    "2. Install a third-party module\n",
    "3. Create and import your own module"
   ]
  },
  {
   "cell_type": "markdown",
   "id": "6f4321cc-dc4d-4fa1-8cb2-a885481859c8",
   "metadata": {},
   "source": [
    "### Part 1: Use a Built-in Module (math)"
   ]
  },
  {
   "cell_type": "code",
   "execution_count": null,
   "id": "69d76875-3825-4b5e-89fa-ebf1566cfac1",
   "metadata": {},
   "outputs": [],
   "source": [
    "import math\n",
    "\n",
    "print(\"The square root of 25 is:\", math.sqrt(25))\n"
   ]
  },
  {
   "cell_type": "markdown",
   "id": "acb915e2-0d20-4ff3-a44e-acf87d5df6d9",
   "metadata": {},
   "source": [
    "### Part 2: Install and Use a Third-Party Module (requests)\n",
    "\n",
    "```shell\n",
    "pip install requests\n",
    "```\n",
    "Ignore the errors about version compatibilites\n"
   ]
  },
  {
   "cell_type": "code",
   "execution_count": null,
   "id": "631b2cff-124c-4f0a-a769-8766aef2d97e",
   "metadata": {},
   "outputs": [],
   "source": [
    "import requests\n",
    "response = requests.get(\"https://api.github.com\")\n",
    "print(\"Status code:\", response.status_code)"
   ]
  },
  {
   "cell_type": "markdown",
   "id": "58c8b82b-3cc4-4b1a-8ccd-7a74c2ce36db",
   "metadata": {},
   "source": [
    "### Part 3: Different forms of imports\n",
    "\n",
    "We can use an alias for a module. For example, a common alias for numpy (the numerical library) is `np`\n",
    "\n",
    "In the terminal, make sure the `labs` env is active, \n",
    "\n",
    "```shell\n",
    "conda install numpy\n",
    "```\n"
   ]
  },
  {
   "cell_type": "code",
   "execution_count": null,
   "id": "f7c60f2c-80d5-4bf6-a941-222e3bbeb6af",
   "metadata": {},
   "outputs": [],
   "source": [
    "import numpy as np  # standard convention is to import numpy as np\n",
    "\n",
    "# A list of test scores\n",
    "scores = [88, 92, 79, 93, 85]\n",
    "\n",
    "# Use numpy's mean() function to calculate the average\n",
    "average = np.mean(scores)\n",
    "\n",
    "print(\"Average score:\", average)\n"
   ]
  },
  {
   "cell_type": "markdown",
   "id": "c76dd8b6-5296-4519-bf49-83c6d54aa4fe",
   "metadata": {},
   "source": [
    "- Notice that we use the `np` prefix to indicate that the `mean()` function can be found in the `numpy` module.\n",
    "- If you remove the `np.' and run the code, then you will bet an error that the function is undefined.\n",
    "\n",
    "However, we can directly import the mean function so we don't have to use the prefix. We often do this when we only want to access a single function in a module.\n"
   ]
  },
  {
   "cell_type": "code",
   "execution_count": null,
   "id": "405a17e2-1703-40d0-8bdc-62a789694f61",
   "metadata": {},
   "outputs": [],
   "source": [
    "from numpy import mean\n",
    "\n",
    "import numpy as np  # standard convention is to import numpy as np\n",
    "\n",
    "# A list of test scores\n",
    "scores = [88, 92, 79, 93, 85]\n",
    "\n",
    "# Use numpy's mean() function to calculate the average\n",
    "average = mean(scores)\n",
    "\n",
    "print(\"Average score:\", average)"
   ]
  },
  {
   "cell_type": "markdown",
   "id": "0ecdf370-3700-4f72-b376-b715df59eca5",
   "metadata": {},
   "source": [
    "We can also rename a single import as shown below. This is useful when we want to import f"
   ]
  },
  {
   "cell_type": "code",
   "execution_count": null,
   "id": "405714d1-b222-45ab-a6fa-3bcd64228ca8",
   "metadata": {},
   "outputs": [],
   "source": [
    "from numpy import mean as avg\n",
    "\n",
    "import numpy as np  # standard convention is to import numpy as np\n",
    "\n",
    "# A list of test scores\n",
    "scores = [88, 92, 79, 93, 85]\n",
    "\n",
    "# Use numpy's mean() function to calculate the average\n",
    "average = avg(scores)\n",
    "\n",
    "print(\"Average score:\", average)"
   ]
  },
  {
   "cell_type": "markdown",
   "id": "dc8b6868-3ce8-4f31-92dc-54749ec40443",
   "metadata": {},
   "source": [
    "### Part 4: Using a Custom Module\n",
    "\n",
    "Create a python file `mymodule.py` with the following code:\n",
    "\n",
    "```python\n",
    "def greet(name):\n",
    "    return f\"Hello, {name}!\"\n",
    "```\n",
    "\n",
    "And save it in Labs directory\n",
    "\n",
    "Now we can import and use it"
   ]
  },
  {
   "cell_type": "code",
   "execution_count": null,
   "id": "7b85622f-6daa-4d54-9349-38bc9f7cd55a",
   "metadata": {},
   "outputs": [],
   "source": [
    "\n",
    "import mymodule\n",
    "\n",
    "print(mymodule.greet(\"Tester\"))\n"
   ]
  },
  {
   "cell_type": "code",
   "execution_count": null,
   "id": "726af457-cca1-4130-b187-9e6cb711324d",
   "metadata": {},
   "outputs": [],
   "source": []
  }
 ],
 "metadata": {
  "kernelspec": {
   "display_name": "Labs",
   "language": "python",
   "name": "labs"
  },
  "language_info": {
   "codemirror_mode": {
    "name": "ipython",
    "version": 3
   },
   "file_extension": ".py",
   "mimetype": "text/x-python",
   "name": "python",
   "nbconvert_exporter": "python",
   "pygments_lexer": "ipython3",
   "version": "3.12.9"
  }
 },
 "nbformat": 4,
 "nbformat_minor": 5
}
